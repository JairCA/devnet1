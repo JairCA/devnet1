{
 "cells": [
  {
   "cell_type": "code",
   "execution_count": 3,
   "metadata": {},
   "outputs": [
    {
     "name": "stdout",
     "output_type": "stream",
     "text": [
      "El tipo de pi es  <class 'float'> Y el valor de pi es:  3.141592653589793\n"
     ]
    }
   ],
   "source": [
    "\"\"\"Intro to Python - Part 1 - Hands-On Exercise.\"\"\"\n",
    "\n",
    "\n",
    "import math\n",
    "import random\n",
    "\n",
    "\n",
    "# TODO: Write a print statement that displays both the type and value of `pi`\n",
    "pi = math.pi\n",
    "print(\"El tipo de pi es \", type(pi), \"Y el valor de pi es: \", (pi))"
   ]
  },
  {
   "cell_type": "code",
   "execution_count": 18,
   "metadata": {},
   "outputs": [
    {
     "name": "stdout",
     "output_type": "stream",
     "text": [
      "i is greater than 50\n"
     ]
    }
   ],
   "source": [
    "# TODO: Write a conditional to print out if `i` is less than or greater than 50\n",
    "i = random.randint(0, 100)\n",
    "if i<50: \n",
    "    print(\"i is less than 50\")\n",
    "elif i>50:\n",
    "    print(\"i is greater than 50\")\n",
    "    "
   ]
  },
  {
   "cell_type": "code",
   "execution_count": 21,
   "metadata": {},
   "outputs": [
    {
     "name": "stdout",
     "output_type": "stream",
     "text": [
      "The fruit picked is:  strawberry the color is red\n"
     ]
    }
   ],
   "source": [
    "\n",
    "#TODO: Write a conditional that prints the color of the picked fruit\n",
    "\n",
    "import random\n",
    "\n",
    "picked_fruit = random.choice(['orange', 'strawberry', 'banana'])\n",
    "if picked_fruit =='orange':\n",
    "    print(\"The fruit picked is: \", picked_fruit, 'the color is orange')\n",
    "elif picked_fruit =='strawberry':\n",
    "    print(\"The fruit picked is: \", picked_fruit, 'the color is red')\n",
    "elif picked_fruit == 'banana':\n",
    "    print(\"The fruit picked is: \", picked_fruit, 'the color is yellow')\n",
    "    "
   ]
  },
  {
   "cell_type": "code",
   "execution_count": null,
   "metadata": {},
   "outputs": [],
   "source": []
  },
  {
   "cell_type": "code",
   "execution_count": null,
   "metadata": {},
   "outputs": [],
   "source": []
  }
 ],
 "metadata": {
  "kernelspec": {
   "display_name": "Python 3",
   "language": "python",
   "name": "python3"
  },
  "language_info": {
   "codemirror_mode": {
    "name": "ipython",
    "version": 3
   },
   "file_extension": ".py",
   "mimetype": "text/x-python",
   "name": "python",
   "nbconvert_exporter": "python",
   "pygments_lexer": "ipython3",
   "version": "3.7.4"
  }
 },
 "nbformat": 4,
 "nbformat_minor": 2
}
